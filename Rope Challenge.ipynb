{
 "cells": [
  {
   "cell_type": "code",
   "execution_count": 187,
   "metadata": {
    "collapsed": true
   },
   "outputs": [],
   "source": [
    "# Rope Challenge \n",
    "\n",
    "import numpy as np\n",
    "\n",
    "def ropeFunc(N, T):\n",
    "    S_values = []\n",
    "    reset = N\n",
    "    first_cut = 0\n",
    "    second_cut = 0 \n",
    "    for y in range(T):\n",
    "        S = 0\n",
    "        guesses =[]\n",
    "        replace_values = []\n",
    "        while N > 3:\n",
    "            guesses = np.random.randint(1, N, size = 2)\n",
    "            l = guesses[0]\n",
    "            m = guesses[1]\n",
    "            while (((first_cut in replace_values) or (second_cut in replace_values)) and (N > 5)): \n",
    "                guesses = np.random.randint(1, N, size = 2)\n",
    "                first_cut = guesses[0]\n",
    "                second_cut = guesses[1]\n",
    "                #print(\"these came from the loop\")\n",
    "                #print(\"this is the value of N: \", N)\n",
    "            replace_values = np.append(replace_values, guesses)\n",
    "            cuts = np.sort(np.append(guesses, [1, N]))\n",
    "            #print(cuts)\n",
    "            for x in range(len(cuts)-1):\n",
    "                rope = cuts[x+1] - cuts[x]\n",
    "                S = max(S, rope)\n",
    "            #print(S)\n",
    "            S_values = np.append(S_values, S)\n",
    "            #print(\"These are the S values: \",S_values)\n",
    "            N = S\n",
    "            S = 0\n",
    "            #print(\"These are all the replacement values\", replace_values)\n",
    "            #print(\"This is N\",N)\n",
    "        #print(\"this is t\", y)\n",
    "        N = reset   \n",
    "    print(\"The average of S \",np.average(S_values))\n",
    "    print(\"The standard deviation of S \",np.std(S_values))\n",
    "    print(\"The median of S \",np.median(S_values))\n",
    "    return S_values \n",
    "        \n",
    "            "
   ]
  },
  {
   "cell_type": "code",
   "execution_count": 188,
   "metadata": {},
   "outputs": [
    {
     "name": "stdout",
     "output_type": "stream",
     "text": [
      "The average of S  17.5862068966\n",
      "The standard deviation of S  13.3274858363\n",
      "The median of S  14.0\n"
     ]
    }
   ],
   "source": [
    "value = ropeFunc(64, 5)"
   ]
  },
  {
   "cell_type": "code",
   "execution_count": 191,
   "metadata": {
    "collapsed": true
   },
   "outputs": [],
   "source": [
    "def condprob(limit):\n",
    "    count = 0 \n",
    "    for x in range(len(value)):\n",
    "        if value[x] > limit:\n",
    "            count += 1\n",
    "    prob = count/len(value)\n",
    "    #print(count)\n",
    "    #print(np.sum(value))\n",
    "    return (prob)"
   ]
  },
  {
   "cell_type": "code",
   "execution_count": 202,
   "metadata": {},
   "outputs": [
    {
     "name": "stdout",
     "output_type": "stream",
     "text": [
      "0.38525564803804996\n"
     ]
    }
   ],
   "source": [
    "P_8_4 = (condprob(8)*condprob(4)*condprob(8))/condprob(4)\n",
    "print(P_8_4)"
   ]
  },
  {
   "cell_type": "code",
   "execution_count": 206,
   "metadata": {},
   "outputs": [
    {
     "name": "stdout",
     "output_type": "stream",
     "text": [
      "The average of S  158.745454545\n",
      "The standard deviation of S  227.98590213\n",
      "The median of S  49.5\n"
     ]
    }
   ],
   "source": [
    "value = ropeFunc(1024, 10)"
   ]
  },
  {
   "cell_type": "code",
   "execution_count": 207,
   "metadata": {},
   "outputs": [
    {
     "name": "stdout",
     "output_type": "stream",
     "text": [
      "0.6255371900826446\n"
     ]
    }
   ],
   "source": [
    "P_8_4 = (condprob(8)*condprob(4)*condprob(8))/condprob(4)\n",
    "print(P_8_4)"
   ]
  }
 ],
 "metadata": {
  "kernelspec": {
   "display_name": "Python 3",
   "language": "python",
   "name": "python3"
  },
  "language_info": {
   "codemirror_mode": {
    "name": "ipython",
    "version": 3
   },
   "file_extension": ".py",
   "mimetype": "text/x-python",
   "name": "python",
   "nbconvert_exporter": "python",
   "pygments_lexer": "ipython3",
   "version": "3.6.3"
  }
 },
 "nbformat": 4,
 "nbformat_minor": 2
}
